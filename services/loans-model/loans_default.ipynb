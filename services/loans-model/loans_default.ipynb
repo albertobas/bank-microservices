{
 "cells": [
  {
   "cell_type": "code",
   "execution_count": 1,
   "id": "4e56fd16",
   "metadata": {},
   "outputs": [],
   "source": [
    "import itertools\n",
    "import random\n",
    "import numpy as np\n",
    "from sklearn.preprocessing import MinMaxScaler\n",
    "from sklearn.pipeline import Pipeline\n",
    "from sklearn.datasets import fetch_openml\n",
    "from sklearn.model_selection import GridSearchCV\n",
    "from torch import manual_seed\n",
    "from torch.optim import Adam\n",
    "from torch.nn.modules.loss import BCEWithLogitsLoss\n",
    "from skorch import NeuralNetBinaryClassifier\n",
    "from utils import Encoder, Model\n",
    "\n",
    "SEED = 29\n",
    "random.seed(SEED)\n",
    "manual_seed(SEED)\n",
    "np.random.seed(SEED)\n"
   ]
  },
  {
   "cell_type": "code",
   "execution_count": 2,
   "id": "b49fbcaa",
   "metadata": {},
   "outputs": [
    {
     "name": "stdout",
     "output_type": "stream",
     "text": [
      "Shape of the data:  (9578, 14)\n"
     ]
    }
   ],
   "source": [
    "data = fetch_openml(name=\"Lending-Club-Loan-Data\", version=1,\n",
    "                    as_frame=True, data_home='data', parser='auto')\n",
    "frame = data.frame.copy()\n",
    "print(\"Shape of the data: \", data.frame.shape)\n"
   ]
  },
  {
   "cell_type": "code",
   "execution_count": 3,
   "id": "ffbed07d",
   "metadata": {},
   "outputs": [
    {
     "data": {
      "text/plain": [
       "['purpose_all_other',\n",
       " 'purpose_credit_card',\n",
       " 'purpose_debt_consolidation',\n",
       " 'purpose_educational',\n",
       " 'purpose_home_improvement',\n",
       " 'purpose_major_purchase',\n",
       " 'purpose_small_business']"
      ]
     },
     "execution_count": 3,
     "metadata": {},
     "output_type": "execute_result"
    }
   ],
   "source": [
    "y = frame['not.fully.paid'].astype(np.float32)\n",
    "frame.drop('not.fully.paid', axis=1, inplace=True)\n",
    "qualitative = ['purpose']\n",
    "categories = list(itertools.chain.from_iterable((var + '_' + str(value)\n",
    "                                                 for value in np.unique(frame[var].dropna()))\n",
    "                                                for var in qualitative))\n",
    "categories\n"
   ]
  },
  {
   "cell_type": "code",
   "execution_count": 4,
   "id": "a4661879",
   "metadata": {},
   "outputs": [
    {
     "name": "stdout",
     "output_type": "stream",
     "text": [
      "Best mean test score: 0.838, Best std test score: 0.003, Best params: {'classifier__batch_size': 32, 'classifier__lr': 0.01, 'classifier__module__num_units': 32}\n"
     ]
    }
   ],
   "source": [
    "classifier = NeuralNetBinaryClassifier(\n",
    "    Model,\n",
    "    module__input_size=frame.shape[1],\n",
    "    criterion=BCEWithLogitsLoss,\n",
    "    optimizer=Adam,\n",
    "    iterator_train__shuffle=True,\n",
    "    max_epochs=200)\n",
    "\n",
    "\n",
    "# deactivate skorch-internal train-valid split and verbose logging\n",
    "classifier.set_params(train_split=False, verbose=0)\n",
    "\n",
    "pipe = Pipeline([\n",
    "    ('encoder', Encoder(categories, qualitative)),\n",
    "    ('scale', MinMaxScaler()),\n",
    "    ('classifier', classifier),\n",
    "])\n",
    "\n",
    "params = {\n",
    "    'classifier__lr': [0.01, 0.005, 0.001],\n",
    "    'classifier__module__num_units': [32, 64, 90],\n",
    "    'classifier__batch_size': [32, 64, 128]\n",
    "}\n",
    "\n",
    "grid_search = GridSearchCV(pipe, params, refit=True,\n",
    "                           cv=3, scoring='accuracy', verbose=0)\n",
    "\n",
    "grid_result = grid_search.fit(frame, y)\n",
    "\n",
    "print(\"Best mean test score: {:.3f}, Best std test score: {:.3f}, Best params: {}\".format(\n",
    "    grid_search.best_score_, grid_search.cv_results_['std_test_score'][grid_search.best_index_], grid_search.best_params_))\n"
   ]
  }
 ],
 "metadata": {
  "kernelspec": {
   "display_name": "Python 3 (ipykernel)",
   "language": "python",
   "name": "python3"
  },
  "language_info": {
   "codemirror_mode": {
    "name": "ipython",
    "version": 3
   },
   "file_extension": ".py",
   "mimetype": "text/x-python",
   "name": "python",
   "nbconvert_exporter": "python",
   "pygments_lexer": "ipython3",
   "version": "3.11.3"
  }
 },
 "nbformat": 4,
 "nbformat_minor": 5
}
